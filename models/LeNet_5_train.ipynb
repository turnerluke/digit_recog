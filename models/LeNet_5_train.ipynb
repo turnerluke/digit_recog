{
  "cells": [
    {
      "cell_type": "markdown",
      "metadata": {
        "id": "view-in-github",
        "colab_type": "text"
      },
      "source": [
        "<a href=\"https://colab.research.google.com/github/turnerluke/digit_recog/blob/main/LeNet_5_train.ipynb\" target=\"_parent\"><img src=\"https://colab.research.google.com/assets/colab-badge.svg\" alt=\"Open In Colab\"/></a>"
      ]
    },
    {
      "cell_type": "code",
      "execution_count": 111,
      "metadata": {
        "id": "YLbq66so0o1x"
      },
      "outputs": [],
      "source": [
        "import numpy as np\n",
        "import matplotlib.pyplot as plt\n",
        "import pandas as pd\n",
        "from tensorflow import keras\n",
        "\n",
        "import itertools\n",
        "import pickle"
      ]
    },
    {
      "cell_type": "markdown",
      "metadata": {
        "id": "EsmAjWiA1Y9L"
      },
      "source": [
        "# Unpack, Preproess Data"
      ]
    },
    {
      "cell_type": "code",
      "execution_count": 96,
      "metadata": {
        "id": "P84qZ4981cnJ"
      },
      "outputs": [],
      "source": [
        "from keras.datasets import mnist\n",
        "\n",
        "(X_train, y_train), (X_test, y_test) = mnist.load_data()"
      ]
    },
    {
      "cell_type": "code",
      "execution_count": 97,
      "metadata": {
        "colab": {
          "base_uri": "https://localhost:8080/"
        },
        "id": "Mg9npD_C2GYF",
        "outputId": "f4bab8dd-7efa-491a-8b18-33f957fc8c1e"
      },
      "outputs": [
        {
          "output_type": "stream",
          "name": "stdout",
          "text": [
            "Numer of training examples: 60000\n",
            "Numer of testing examples: 10000\n"
          ]
        }
      ],
      "source": [
        "print(f\"Numer of training examples: {X_train.shape[0]}\")\n",
        "print(f\"Numer of testing examples: {X_test.shape[0]}\")"
      ]
    },
    {
      "cell_type": "markdown",
      "source": [
        "#### Reshape to (n, 28, 28, 1)"
      ],
      "metadata": {
        "id": "zdNSU1xTwcx2"
      }
    },
    {
      "cell_type": "code",
      "execution_count": 98,
      "metadata": {
        "colab": {
          "base_uri": "https://localhost:8080/"
        },
        "id": "mNE6_scs5DHv",
        "outputId": "eca7d311-1cd2-469e-da11-88a1d5970fcd"
      },
      "outputs": [
        {
          "output_type": "execute_result",
          "data": {
            "text/plain": [
              "(60000, 28, 28, 1)"
            ]
          },
          "metadata": {},
          "execution_count": 98
        }
      ],
      "source": [
        "# Reshape to (num_points, 28, 28, 1)\n",
        "X_train = X_train.reshape(-1, 28, 28, 1)\n",
        "X_test = X_test.reshape(-1, 28, 28, 1)\n",
        "\n",
        "X_train.shape"
      ]
    },
    {
      "cell_type": "code",
      "execution_count": 99,
      "metadata": {
        "colab": {
          "base_uri": "https://localhost:8080/",
          "height": 53
        },
        "id": "MOlEede55rzT",
        "outputId": "daa1b4d3-60ba-4786-e7d2-85c44cb604fe"
      },
      "outputs": [
        {
          "output_type": "execute_result",
          "data": {
            "text/plain": [
              "'from sklearn.model_selection import train_test_split\\n# Split X_train into Training & Validation sets\\nval_size = 0.05\\nX_train, X_val, y_train, y_val = train_test_split(X_train, y_train, test_size=val_size)\\n\\nprint(X_train.shape)\\nprint(X_val.shape)'"
            ],
            "application/vnd.google.colaboratory.intrinsic+json": {
              "type": "string"
            }
          },
          "metadata": {},
          "execution_count": 99
        }
      ],
      "source": [
        "# We won't create a validation set, since we have a labelled test set\n",
        "'''from sklearn.model_selection import train_test_split\n",
        "# Split X_train into Training & Validation sets\n",
        "val_size = 0.05\n",
        "X_train, X_val, y_train, y_val = train_test_split(X_train, y_train, test_size=val_size)\n",
        "\n",
        "print(X_train.shape)\n",
        "print(X_val.shape)'''\n"
      ]
    },
    {
      "cell_type": "markdown",
      "metadata": {
        "id": "6N0-0F7U7StC"
      },
      "source": [
        "#### Standardize the images"
      ]
    },
    {
      "cell_type": "code",
      "execution_count": 100,
      "metadata": {
        "colab": {
          "base_uri": "https://localhost:8080/"
        },
        "id": "NNUrGCgM7Q2Q",
        "outputId": "88356ec1-63b7-419e-d772-c4aa84ed205b"
      },
      "outputs": [
        {
          "output_type": "stream",
          "name": "stdout",
          "text": [
            "(60000, 32, 32, 1)\n",
            "(10000, 32, 32, 1)\n"
          ]
        }
      ],
      "source": [
        "example_idx = 4\n",
        "X_ex_before = X_train[example_idx]\n",
        "\n",
        "Xs = [X_train, X_test]\n",
        "\n",
        "for i, X in enumerate(Xs):\n",
        "  # Padding the images by 2 pixels since in the paper input images were 32x32\n",
        "  X = np.pad(X, ((0,0),(2,2),(2,2),(0,0)), 'constant')\n",
        "  \n",
        "  # Standardize\n",
        "  X_mean = X.mean().astype(np.float32)\n",
        "  X_std = X.std().astype(np.float32)\n",
        "  X = (X - X_mean) / X_std\n",
        "\n",
        "  Xs[i] = X\n",
        "\n",
        "\n",
        "X_train, X_test = Xs\n",
        "\n",
        "X_ex_after = X_train[example_idx]\n",
        "print(X_train.shape)\n",
        "print(X_test.shape)"
      ]
    },
    {
      "cell_type": "code",
      "execution_count": 102,
      "metadata": {
        "colab": {
          "base_uri": "https://localhost:8080/",
          "height": 187
        },
        "id": "mPhHeiLe8OCS",
        "outputId": "1ba4ecdf-7a5e-45cd-c442-cc45a389face"
      },
      "outputs": [
        {
          "output_type": "display_data",
          "data": {
            "text/plain": [
              "<Figure size 432x288 with 2 Axes>"
            ],
            "image/png": "[encoded data removed]"
          },
          "metadata": {
            "needs_background": "light"
          }
        }
      ],
      "source": [
        "# Visualize the standardization\n",
        "fig, axs = plt.subplots(1, 2)\n",
        "axs[0].imshow(X_ex_before[:, :, 0], cmap='Greys')\n",
        "axs[1].imshow(X_ex_after[:, :, 0], cmap='Greys')\n",
        "\n",
        "axs[0].axes.xaxis.set_visible(False)\n",
        "axs[0].axes.yaxis.set_visible(False)\n",
        "\n",
        "axs[1].axes.xaxis.set_visible(False)\n",
        "axs[1].axes.yaxis.set_visible(False)\n",
        "\n",
        "plt.show()"
      ]
    },
    {
      "cell_type": "markdown",
      "source": [
        "#### One-hot encode the labels"
      ],
      "metadata": {
        "id": "0ixKXxYgwngf"
      }
    },
    {
      "cell_type": "code",
      "execution_count": 104,
      "metadata": {
        "id": "asve1GYc9haM"
      },
      "outputs": [],
      "source": [
        "from tensorflow.keras.utils import to_categorical\n",
        "\n",
        "ys = [y_train, y_test]\n",
        "\n",
        "for i, y in enumerate(ys):\n",
        "  y = to_categorical(y, num_classes=10)\n",
        "  ys[i] = y\n",
        "\n",
        "\n",
        "y_train, y_test = ys"
      ]
    },
    {
      "cell_type": "markdown",
      "metadata": {
        "id": "aBavjWs325g_"
      },
      "source": [
        "# LeNet-5 v2 Model Creation"
      ]
    },
    {
      "cell_type": "code",
      "execution_count": 106,
      "metadata": {
        "id": "iTp8x-QL23bJ"
      },
      "outputs": [],
      "source": [
        "from tensorflow.keras.models import Model, Sequential\n",
        "from tensorflow.keras.layers import Input, Conv2D, MaxPooling2D, Dense, Flatten, Dropout, Activation, BatchNormalization\n",
        "from tensorflow.keras.regularizers import l2\n",
        "\n",
        "def LeNet5v2(input_shape = (32, 32, 1), classes = 10):\n",
        "    \"\"\"\n",
        "    Implementation of a modified LeNet-5.\n",
        "    Only those layers with learnable parameters are counted in the layer numbering.\n",
        "    \n",
        "    Arguments:\n",
        "    input_shape -- shape of the images of the dataset\n",
        "    classes -- integer, number of classes\n",
        "\n",
        "    Returns:\n",
        "    model -- a Model() instance in Keras\n",
        "    \"\"\"\n",
        "    \n",
        "    model = Sequential([\n",
        "        \n",
        "    # Layer 1\n",
        "    Conv2D(filters = 32, kernel_size = 5, strides = 1, activation = 'relu', input_shape = (32,32,1), kernel_regularizer=l2(0.0005), name = 'convolution_1'),\n",
        "    \n",
        "    # Layer 2\n",
        "    Conv2D(filters = 32, kernel_size = 5, strides = 1, name = 'convolution_2', use_bias=False),\n",
        "    \n",
        "    # Layer 3    \n",
        "    BatchNormalization(name = 'batchnorm_1'),\n",
        "        \n",
        "    # -------------------------------- #  \n",
        "    Activation(\"relu\"),\n",
        "    MaxPooling2D(pool_size = 2, strides = 2, name = 'max_pool_1'),\n",
        "    Dropout(0.25, name = 'dropout_1'),\n",
        "    # -------------------------------- #  \n",
        "        \n",
        "    # Layer 3\n",
        "    Conv2D(filters = 64, kernel_size = 3, strides = 1, activation = 'relu', kernel_regularizer=l2(0.0005), name = 'convolution_3'),\n",
        "        \n",
        "    # Layer 4\n",
        "    Conv2D(filters = 64, kernel_size = 3, strides = 1, name = 'convolution_4', use_bias=False),\n",
        "        \n",
        "    # Layer 5\n",
        "    BatchNormalization(name = 'batchnorm_2'),\n",
        "        \n",
        "    # -------------------------------- #  \n",
        "    Activation(\"relu\"),\n",
        "    MaxPooling2D(pool_size = 2, strides = 2, name = 'max_pool_2'),\n",
        "        Dropout(0.25, name = 'dropout_2'),\n",
        "    Flatten(name = 'flatten'),\n",
        "    # -------------------------------- #  \n",
        "        \n",
        "    # Layer 6\n",
        "    Dense(units = 256, name = 'fully_connected_1', use_bias=False),\n",
        "        \n",
        "    # Layer 7\n",
        "    BatchNormalization(name = 'batchnorm_3'),\n",
        "    \n",
        "    # -------------------------------- #  \n",
        "    Activation(\"relu\"),\n",
        "    # -------------------------------- #  \n",
        "        \n",
        "    # Layer 8\n",
        "    Dense(units = 128, name = 'fully_connected_2', use_bias=False),\n",
        "        \n",
        "    # Layer 9\n",
        "    BatchNormalization(name = 'batchnorm_4'),\n",
        "        \n",
        "    # -------------------------------- #  \n",
        "    Activation(\"relu\"),\n",
        "    # -------------------------------- #  \n",
        "        \n",
        "    # Layer 10\n",
        "    Dense(units = 84, name = 'fully_connected_3', use_bias=False),\n",
        "        \n",
        "    # Layer 11\n",
        "    BatchNormalization(name = 'batchnorm_5'),\n",
        "        \n",
        "    # -------------------------------- #  \n",
        "    Activation(\"relu\"),\n",
        "    Dropout(0.25, name = 'dropout_3'),\n",
        "    # -------------------------------- #  \n",
        "\n",
        "    # Output\n",
        "    Dense(units = 10, activation = 'softmax', name = 'output')\n",
        "        \n",
        "    ])\n",
        "    \n",
        "    model._name = 'LeNet5v2'\n",
        "\n",
        "    return model"
      ]
    },
    {
      "cell_type": "markdown",
      "source": [
        "#### Image Data Generator\n",
        "Improves the dataset by performing the following operations randomly to the X data:\n",
        "- Rotates 10 degress\n",
        "- Zooms 10%\n",
        "- Shifts images 10%"
      ],
      "metadata": {
        "id": "0bRdLzl6w6OD"
      }
    },
    {
      "cell_type": "code",
      "execution_count": 105,
      "metadata": {
        "id": "HOZlQxLeAF-8"
      },
      "outputs": [],
      "source": [
        "from tensorflow.keras.preprocessing.image import ImageDataGenerator\n",
        "# \"Generate\" new data w/ image generator\n",
        "\n",
        "datagen = ImageDataGenerator(\n",
        "        featurewise_center = False,  # set input mean to 0 over the dataset\n",
        "        samplewise_center = False,  # set each sample mean to 0\n",
        "        featurewise_std_normalization = False,  # divide inputs by std of the dataset\n",
        "        samplewise_std_normalization = False,  # divide each input by its std\n",
        "        zca_whitening = False,  # apply ZCA whitening\n",
        "        rotation_range = 10,  # randomly rotate images in the range (degrees, 0 to 180)\n",
        "        zoom_range = 0.1, # Randomly zoom image \n",
        "        width_shift_range = 0.1,  # randomly shift images horizontally (fraction of total width)\n",
        "        height_shift_range = 0.1,  # randomly shift images vertically (fraction of total height)\n",
        "        horizontal_flip = False,  # randomly flip images\n",
        "        vertical_flip = False)  # randomly flip images\n",
        "\n",
        "datagen.fit(X_train)\n"
      ]
    },
    {
      "cell_type": "markdown",
      "metadata": {
        "id": "sWmTZkROBd1Q"
      },
      "source": [
        "#### Compile the model"
      ]
    },
    {
      "cell_type": "code",
      "execution_count": 107,
      "metadata": {
        "colab": {
          "base_uri": "https://localhost:8080/"
        },
        "id": "YEtUAPCtBcbE",
        "outputId": "be829982-e229-4fdc-d343-272aa2830a77"
      },
      "outputs": [
        {
          "output_type": "stream",
          "name": "stdout",
          "text": [
            "Model: \"LeNet5v2\"\n",
            "_________________________________________________________________\n",
            " Layer (type)                Output Shape              Param #   \n",
            "=================================================================\n",
            " convolution_1 (Conv2D)      (None, 28, 28, 32)        832       \n",
            "                                                                 \n",
            " convolution_2 (Conv2D)      (None, 24, 24, 32)        25600     \n",
            "                                                                 \n",
            " batchnorm_1 (BatchNormaliza  (None, 24, 24, 32)       128       \n",
            " tion)                                                           \n",
            "                                                                 \n",
            " activation_25 (Activation)  (None, 24, 24, 32)        0         \n",
            "                                                                 \n",
            " max_pool_1 (MaxPooling2D)   (None, 12, 12, 32)        0         \n",
            "                                                                 \n",
            " dropout_1 (Dropout)         (None, 12, 12, 32)        0         \n",
            "                                                                 \n",
            " convolution_3 (Conv2D)      (None, 10, 10, 64)        18496     \n",
            "                                                                 \n",
            " convolution_4 (Conv2D)      (None, 8, 8, 64)          36864     \n",
            "                                                                 \n",
            " batchnorm_2 (BatchNormaliza  (None, 8, 8, 64)         256       \n",
            " tion)                                                           \n",
            "                                                                 \n",
            " activation_26 (Activation)  (None, 8, 8, 64)          0         \n",
            "                                                                 \n",
            " max_pool_2 (MaxPooling2D)   (None, 4, 4, 64)          0         \n",
            "                                                                 \n",
            " dropout_2 (Dropout)         (None, 4, 4, 64)          0         \n",
            "                                                                 \n",
            " flatten (Flatten)           (None, 1024)              0         \n",
            "                                                                 \n",
            " fully_connected_1 (Dense)   (None, 256)               262144    \n",
            "                                                                 \n",
            " batchnorm_3 (BatchNormaliza  (None, 256)              1024      \n",
            " tion)                                                           \n",
            "                                                                 \n",
            " activation_27 (Activation)  (None, 256)               0         \n",
            "                                                                 \n",
            " fully_connected_2 (Dense)   (None, 128)               32768     \n",
            "                                                                 \n",
            " batchnorm_4 (BatchNormaliza  (None, 128)              512       \n",
            " tion)                                                           \n",
            "                                                                 \n",
            " activation_28 (Activation)  (None, 128)               0         \n",
            "                                                                 \n",
            " fully_connected_3 (Dense)   (None, 84)                10752     \n",
            "                                                                 \n",
            " batchnorm_5 (BatchNormaliza  (None, 84)               336       \n",
            " tion)                                                           \n",
            "                                                                 \n",
            " activation_29 (Activation)  (None, 84)                0         \n",
            "                                                                 \n",
            " dropout_3 (Dropout)         (None, 84)                0         \n",
            "                                                                 \n",
            " output (Dense)              (None, 10)                850       \n",
            "                                                                 \n",
            "=================================================================\n",
            "Total params: 390,562\n",
            "Trainable params: 389,434\n",
            "Non-trainable params: 1,128\n",
            "_________________________________________________________________\n"
          ]
        }
      ],
      "source": [
        "le_net5_v2 = LeNet5v2()\n",
        "le_net5_v2.compile(optimizer='adam', loss='categorical_crossentropy', metrics=['accuracy'])\n",
        "le_net5_v2.summary()\n"
      ]
    },
    {
      "cell_type": "markdown",
      "source": [
        "#### Train the Model"
      ],
      "metadata": {
        "id": "ZRlgZVBNxb-Z"
      }
    },
    {
      "cell_type": "code",
      "execution_count": 108,
      "metadata": {
        "id": "yznp4gTmBxWe"
      },
      "outputs": [],
      "source": [
        "from tensorflow.keras.callbacks import ReduceLROnPlateau\n",
        "variable_learning_rate = ReduceLROnPlateau(monitor='val_loss', factor = 0.2, patience = 2)"
      ]
    },
    {
      "cell_type": "code",
      "execution_count": 110,
      "metadata": {
        "colab": {
          "base_uri": "https://localhost:8080/"
        },
        "id": "5XdkkJ5qCHd2",
        "outputId": "4053a01f-dbb9-42f4-c3a0-d3cf1a5b49fe"
      },
      "outputs": [
        {
          "output_type": "stream",
          "name": "stdout",
          "text": [
            "Epoch 1/30\n",
            "938/938 [==============================] - 317s 338ms/step - loss: 0.1912 - accuracy: 0.9504 - val_loss: 0.0691 - val_accuracy: 0.9845 - lr: 0.0010\n",
            "Epoch 2/30\n",
            "938/938 [==============================] - 321s 342ms/step - loss: 0.1213 - accuracy: 0.9695 - val_loss: 0.0585 - val_accuracy: 0.9867 - lr: 0.0010\n",
            "Epoch 3/30\n",
            "938/938 [==============================] - 322s 344ms/step - loss: 0.1002 - accuracy: 0.9750 - val_loss: 0.0396 - val_accuracy: 0.9915 - lr: 0.0010\n",
            "Epoch 4/30\n",
            "938/938 [==============================] - 346s 369ms/step - loss: 0.0866 - accuracy: 0.9789 - val_loss: 0.0743 - val_accuracy: 0.9803 - lr: 0.0010\n",
            "Epoch 5/30\n",
            "938/938 [==============================] - 314s 335ms/step - loss: 0.0797 - accuracy: 0.9799 - val_loss: 0.0480 - val_accuracy: 0.9894 - lr: 0.0010\n",
            "Epoch 6/30\n",
            "938/938 [==============================] - 312s 333ms/step - loss: 0.0582 - accuracy: 0.9868 - val_loss: 0.0271 - val_accuracy: 0.9947 - lr: 2.0000e-04\n",
            "Epoch 7/30\n",
            "938/938 [==============================] - 314s 335ms/step - loss: 0.0489 - accuracy: 0.9894 - val_loss: 0.0235 - val_accuracy: 0.9961 - lr: 2.0000e-04\n",
            "Epoch 8/30\n",
            "938/938 [==============================] - 312s 332ms/step - loss: 0.0471 - accuracy: 0.9897 - val_loss: 0.0239 - val_accuracy: 0.9951 - lr: 2.0000e-04\n",
            "Epoch 9/30\n",
            "938/938 [==============================] - 315s 335ms/step - loss: 0.0446 - accuracy: 0.9904 - val_loss: 0.0235 - val_accuracy: 0.9952 - lr: 2.0000e-04\n",
            "Epoch 10/30\n",
            "938/938 [==============================] - 316s 337ms/step - loss: 0.0402 - accuracy: 0.9904 - val_loss: 0.0199 - val_accuracy: 0.9962 - lr: 4.0000e-05\n",
            "Epoch 11/30\n",
            "938/938 [==============================] - 317s 338ms/step - loss: 0.0392 - accuracy: 0.9914 - val_loss: 0.0199 - val_accuracy: 0.9966 - lr: 4.0000e-05\n",
            "Epoch 12/30\n",
            "938/938 [==============================] - 315s 336ms/step - loss: 0.0366 - accuracy: 0.9919 - val_loss: 0.0194 - val_accuracy: 0.9965 - lr: 4.0000e-05\n",
            "Epoch 13/30\n",
            "938/938 [==============================] - 314s 335ms/step - loss: 0.0373 - accuracy: 0.9915 - val_loss: 0.0197 - val_accuracy: 0.9962 - lr: 4.0000e-05\n",
            "Epoch 14/30\n",
            "938/938 [==============================] - 313s 333ms/step - loss: 0.0354 - accuracy: 0.9917 - val_loss: 0.0197 - val_accuracy: 0.9959 - lr: 4.0000e-05\n",
            "Epoch 15/30\n",
            "938/938 [==============================] - 316s 337ms/step - loss: 0.0346 - accuracy: 0.9920 - val_loss: 0.0191 - val_accuracy: 0.9964 - lr: 8.0000e-06\n",
            "Epoch 16/30\n",
            "938/938 [==============================] - 316s 336ms/step - loss: 0.0346 - accuracy: 0.9923 - val_loss: 0.0189 - val_accuracy: 0.9963 - lr: 8.0000e-06\n",
            "Epoch 17/30\n",
            "938/938 [==============================] - 315s 336ms/step - loss: 0.0354 - accuracy: 0.9922 - val_loss: 0.0189 - val_accuracy: 0.9963 - lr: 8.0000e-06\n",
            "Epoch 18/30\n",
            "938/938 [==============================] - 316s 337ms/step - loss: 0.0355 - accuracy: 0.9918 - val_loss: 0.0189 - val_accuracy: 0.9963 - lr: 8.0000e-06\n",
            "Epoch 19/30\n",
            "938/938 [==============================] - 315s 336ms/step - loss: 0.0337 - accuracy: 0.9924 - val_loss: 0.0194 - val_accuracy: 0.9963 - lr: 1.6000e-06\n",
            "Epoch 20/30\n",
            "938/938 [==============================] - 314s 334ms/step - loss: 0.0332 - accuracy: 0.9929 - val_loss: 0.0192 - val_accuracy: 0.9961 - lr: 1.6000e-06\n",
            "Epoch 21/30\n",
            "938/938 [==============================] - 311s 332ms/step - loss: 0.0345 - accuracy: 0.9922 - val_loss: 0.0192 - val_accuracy: 0.9961 - lr: 3.2000e-07\n",
            "Epoch 22/30\n",
            "938/938 [==============================] - 316s 337ms/step - loss: 0.0344 - accuracy: 0.9923 - val_loss: 0.0190 - val_accuracy: 0.9964 - lr: 3.2000e-07\n",
            "Epoch 23/30\n",
            "938/938 [==============================] - 320s 341ms/step - loss: 0.0350 - accuracy: 0.9924 - val_loss: 0.0189 - val_accuracy: 0.9962 - lr: 6.4000e-08\n",
            "Epoch 24/30\n",
            "938/938 [==============================] - 323s 344ms/step - loss: 0.0355 - accuracy: 0.9918 - val_loss: 0.0190 - val_accuracy: 0.9962 - lr: 6.4000e-08\n",
            "Epoch 25/30\n",
            "938/938 [==============================] - 311s 332ms/step - loss: 0.0336 - accuracy: 0.9923 - val_loss: 0.0190 - val_accuracy: 0.9963 - lr: 1.2800e-08\n",
            "Epoch 26/30\n",
            "938/938 [==============================] - 312s 333ms/step - loss: 0.0344 - accuracy: 0.9923 - val_loss: 0.0191 - val_accuracy: 0.9960 - lr: 1.2800e-08\n",
            "Epoch 27/30\n",
            "938/938 [==============================] - 309s 330ms/step - loss: 0.0345 - accuracy: 0.9922 - val_loss: 0.0190 - val_accuracy: 0.9963 - lr: 2.5600e-09\n",
            "Epoch 28/30\n",
            "938/938 [==============================] - 311s 332ms/step - loss: 0.0368 - accuracy: 0.9914 - val_loss: 0.0192 - val_accuracy: 0.9962 - lr: 2.5600e-09\n",
            "Epoch 29/30\n",
            "938/938 [==============================] - 310s 331ms/step - loss: 0.0341 - accuracy: 0.9925 - val_loss: 0.0191 - val_accuracy: 0.9964 - lr: 5.1200e-10\n",
            "Epoch 30/30\n",
            "938/938 [==============================] - 311s 331ms/step - loss: 0.0340 - accuracy: 0.9928 - val_loss: 0.0192 - val_accuracy: 0.9963 - lr: 5.1200e-10\n"
          ]
        }
      ],
      "source": [
        "history = le_net5_v2.fit(datagen.flow(X_train, y_train, batch_size = 64),\n",
        "                                   epochs = 30,\n",
        "                                   callbacks = [variable_learning_rate],\n",
        "                                   validation_data = (X_test, y_test))"
      ]
    },
    {
      "cell_type": "markdown",
      "source": [
        "#### Save the Model"
      ],
      "metadata": {
        "id": "k5Jo6lD6xeeH"
      }
    },
    {
      "cell_type": "code",
      "source": [
        "le_net5_v2.save(\"le_net5_v2.h5\")\n",
        "# Pickle the training history data, so we don't have to re-train the model (~2.6hrs)\n",
        "with open('history.pickle', 'wb') as f:\n",
        "  pickle.dump(history, f)"
      ],
      "metadata": {
        "colab": {
          "base_uri": "https://localhost:8080/"
        },
        "id": "j9AM10J1qqHK",
        "outputId": "7dcc164f-8af3-47ff-ce88-432b06c38e3c"
      },
      "execution_count": 112,
      "outputs": [
        {
          "output_type": "stream",
          "name": "stdout",
          "text": [
            "INFO:tensorflow:Assets written to: ram://02aa945f-dd0d-403a-8e2e-10afe617b984/assets\n"
          ]
        }
      ]
    },
    {
      "cell_type": "markdown",
      "source": [
        "# Visualize Results"
      ],
      "metadata": {
        "id": "EisDG14Gxiun"
      }
    },
    {
      "cell_type": "markdown",
      "source": [
        "#### Training Accuracy vs. Epoch"
      ],
      "metadata": {
        "id": "UnGuQkb7xzzx"
      }
    },
    {
      "cell_type": "code",
      "execution_count": 119,
      "metadata": {
        "colab": {
          "base_uri": "https://localhost:8080/",
          "height": 751
        },
        "id": "gXXt3Co2ChSJ",
        "outputId": "dc9c4d29-c081-4c27-ad13-a2cc07d7f034"
      },
      "outputs": [
        {
          "output_type": "stream",
          "name": "stderr",
          "text": [
            "No handles with labels found to put in legend.\n"
          ]
        },
        {
          "output_type": "execute_result",
          "data": {
            "text/plain": [
              "<matplotlib.legend.Legend at 0x7f3f05b73850>"
            ]
          },
          "metadata": {},
          "execution_count": 119
        },
        {
          "output_type": "display_data",
          "data": {
            "text/plain": [
              "<Figure size 864x864 with 2 Axes>"
            ],
            "image/png": "[encoded data removed]"
          },
          "metadata": {
            "needs_background": "light"
          }
        }
      ],
      "source": [
        "\n",
        "fig, axs = plt.subplots(2, 1, sharex=True, figsize=(12, 12))\n",
        "#-----------------------------------------------------------\n",
        "# Retrieve a list of list results on training and test data\n",
        "# sets for each training epoch\n",
        "#-----------------------------------------------------------\n",
        "acc = history.history['accuracy']\n",
        "val_acc = history.history['val_accuracy']\n",
        "loss = history.history['loss']\n",
        "val_loss = history.history['val_loss']\n",
        "\n",
        "epochs=range(len(acc)) # Get number of epochs\n",
        "\n",
        "#------------------------------------------------\n",
        "# Plot training and validation accuracy per epoch\n",
        "#------------------------------------------------\n",
        "axs[0].plot(epochs, acc, 'r')\n",
        "axs[0].plot(epochs, val_acc, 'b')\n",
        "axs[0].set_title('Accuracy')\n",
        "\n",
        "#------------------------------------------------\n",
        "# Plot training and validation loss per epoch\n",
        "#------------------------------------------------\n",
        "axs[1].plot(epochs, loss, 'r')\n",
        "axs[1].plot(epochs, val_loss, 'b')\n",
        "axs[1].set_title(\"Loss\")\n",
        "axs[1].legend([\"Training\", \"Validation\"], loc=1)"
      ]
    },
    {
      "cell_type": "markdown",
      "source": [
        "Notice that the model performs better on the validation set than the training. This is not an error. Since `Dropout` is being used less features are used during training, as opposed to all being used during testing."
      ],
      "metadata": {
        "id": "szECiDFeXwjJ"
      }
    },
    {
      "cell_type": "markdown",
      "source": [
        "#### Confusion Matrix"
      ],
      "metadata": {
        "id": "4kG8kOHNrqZZ"
      }
    },
    {
      "cell_type": "code",
      "source": [
        "from sklearn.metrics import confusion_matrix\n",
        "\n",
        "def plot_confusion_matrix(cm, classes,\n",
        "                          normalize=False,\n",
        "                          title='Confusion matrix',\n",
        "                          cmap=plt.cm.Blues):\n",
        "    \"\"\"\n",
        "    This function prints and plots the confusion matrix.\n",
        "    Normalization can be applied by setting `normalize=True`.\n",
        "    \"\"\"\n",
        "    fig, ax = plt.subplots(figsize=(12, 12))\n",
        "    im = ax.imshow(cm, interpolation='nearest', cmap=cmap)\n",
        "    ax.set_title(title)\n",
        "    plt.colorbar(im, ax=ax)\n",
        "    tick_marks = np.arange(len(classes))\n",
        "\n",
        "    ax.set_xticks(tick_marks)\n",
        "    ax.set_xticklabels(classes)\n",
        "\n",
        "    ax.set_yticks(tick_marks)\n",
        "    ax.set_yticklabels(classes)\n",
        "\n",
        "\n",
        "    if normalize:\n",
        "        cm = cm.astype('float') / cm.sum(axis=1)[:, np.newaxis]\n",
        "\n",
        "    thresh = cm.max() / 2.\n",
        "    for i, j in itertools.product(range(cm.shape[0]), range(cm.shape[1])):\n",
        "        ax.text(j, i, cm[i, j],\n",
        "                 horizontalalignment=\"center\",\n",
        "                 color=\"white\" if cm[i, j] > thresh else \"black\")\n",
        "\n",
        "    #ax.tight_layout()\n",
        "    ax.set_ylabel('True label')\n",
        "    ax.set_xlabel('Predicted label')\n",
        "\n",
        "# Predict the values from the validation dataset\n",
        "y_pred = le_net5_v2.predict(X_test)\n",
        "# Convert predictions classes to one hot vectors \n",
        "y_pred_classes = np.argmax(y_pred,axis = 1) \n",
        "# Convert validation observations to one hot vectors\n",
        "y_true = np.argmax(y_test, axis = 1) \n",
        "# compute the confusion matrix\n",
        "confusion_mtx = confusion_matrix(y_true, y_pred_classes) \n",
        "# plot the confusion matrix\n",
        "plot_confusion_matrix(confusion_mtx, classes = range(10))"
      ],
      "metadata": {
        "colab": {
          "base_uri": "https://localhost:8080/",
          "height": 689
        },
        "id": "7ncTw6F6rtXU",
        "outputId": "1e2bb303-72bb-4719-a793-a23df81a6990"
      },
      "execution_count": 129,
      "outputs": [
        {
          "output_type": "display_data",
          "data": {
            "text/plain": [
              "<Figure size 864x864 with 2 Axes>"
            ],
            "image/png": "[encoded data removed]"
          },
          "metadata": {
            "needs_background": "light"
          }
        }
      ]
    },
    {
      "cell_type": "markdown",
      "source": [
        "# Conclusion"
      ],
      "metadata": {
        "id": "xQi-4WKssK5g"
      }
    },
    {
      "cell_type": "markdown",
      "source": [
        "#### Accuracy"
      ],
      "metadata": {
        "id": "OiGqm_WtsRpy"
      }
    },
    {
      "cell_type": "code",
      "source": [
        "acc = np.mean(y_pred_classes == y_true)\n",
        "\n",
        "print(f\"Final accuracy on test set: {round(acc*100, 2)}%\")"
      ],
      "metadata": {
        "colab": {
          "base_uri": "https://localhost:8080/"
        },
        "id": "PdeWOiO1sQWK",
        "outputId": "62b1858f-00ee-4359-93f9-af0019a2a4bc"
      },
      "execution_count": 138,
      "outputs": [
        {
          "output_type": "stream",
          "name": "stdout",
          "text": [
            "Final accuracy on test set: 99.63 %\n"
          ]
        }
      ]
    },
    {
      "cell_type": "markdown",
      "source": [
        "An accuracy of 99.63% is quite good on the MNIST dataset.\n",
        "\n",
        "The next aspect of this project will be to deploy this model to a Flask web app, allowing the user to draw a digit to be predicted.\n",
        "\n",
        "Follow the project here:\n",
        "\n",
        "[![View on GitHub](https://img.shields.io/badge/GitHub-View_on_GitHub-blue?logo=GitHub)](https://github.com/turnerluke/digit_recog\n",
        ")"
      ],
      "metadata": {
        "id": "N3ng7lEctEQQ"
      }
    }
  ],
  "metadata": {
    "colab": {
      "collapsed_sections": [],
      "name": "LeNet-5_train.ipynb",
      "provenance": [],
      "toc_visible": true,
      "authorship_tag": "ABX9TyPENVhe+A46IRu4v7WYhQN9",
      "include_colab_link": true
    },
    "kernelspec": {
      "display_name": "Python 3",
      "name": "python3"
    },
    "language_info": {
      "name": "python"
    }
  },
  "nbformat": 4,
  "nbformat_minor": 0
}
